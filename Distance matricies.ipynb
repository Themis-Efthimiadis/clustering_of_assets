{
 "cells": [
  {
   "cell_type": "code",
   "execution_count": 38,
   "metadata": {},
   "outputs": [],
   "source": [
    "import pandas as pd\n",
    "import numpy as np\n",
    "import matplotlib.pyplot as plt"
   ]
  },
  {
   "cell_type": "code",
   "execution_count": 39,
   "metadata": {},
   "outputs": [],
   "source": [
    "def Calc_dist(day,feature):\n",
    "    \n",
    "    int_tick_names=list(day.int_tick)\n",
    "    \n",
    "    dist=[]\n",
    "    for i in day[feature]:\n",
    "        \n",
    "        line=[]\n",
    "        for j in day[feature]:\n",
    "            line.append(abs(i-j))\n",
    "            \n",
    "        dist.append(line)\n",
    "        \n",
    "    dist=np.array(dist)\n",
    "    dist=dist/dist.max()\n",
    "    \n",
    "    dist=pd.DataFrame(dist)\n",
    "    dist.columns=int_tick_names\n",
    "    dist.index=int_tick_names\n",
    "    \n",
    "    return dist"
   ]
  },
  {
   "cell_type": "code",
   "execution_count": 40,
   "metadata": {},
   "outputs": [],
   "source": [
    "# import the data\n",
    "Data=pd.read_csv('preproccesed.csv')\n",
    "Data=Data.drop('Unnamed: 0',axis=1)\n",
    "\n",
    "periods=list(set(Data.prd))"
   ]
  },
  {
   "cell_type": "code",
   "execution_count": 41,
   "metadata": {},
   "outputs": [
    {
     "name": "stdout",
     "output_type": "stream",
     "text": [
      "spr\n",
      "rat\n",
      "lev\n",
      "size\n",
      "beta\n",
      "iret\n",
      "sov\n"
     ]
    }
   ],
   "source": [
    "listOfFeatures=['spr','rat','lev','size','beta','iret','sov']\n",
    "\n",
    "for feature in listOfFeatures:\n",
    "    print(feature)\n",
    "    dist_feat=[]\n",
    "    for prd in periods:\n",
    "        \n",
    "        day=Data.loc[Data['prd']==prd]\n",
    "        day=day.reset_index(drop=True)\n",
    "\n",
    "        dist_feat.append(Calc_dist(day,feature))\n",
    "\n",
    "    for prd , dists in zip(periods,dist_spr):\n",
    "\n",
    "        dists.to_csv(feature+' '+str(prd)+'.csv')\n"
   ]
  },
  {
   "cell_type": "code",
   "execution_count": null,
   "metadata": {},
   "outputs": [],
   "source": []
  },
  {
   "cell_type": "code",
   "execution_count": 23,
   "metadata": {},
   "outputs": [],
   "source": []
  },
  {
   "cell_type": "code",
   "execution_count": 25,
   "metadata": {},
   "outputs": [],
   "source": []
  },
  {
   "cell_type": "code",
   "execution_count": 26,
   "metadata": {},
   "outputs": [],
   "source": []
  },
  {
   "cell_type": "code",
   "execution_count": 29,
   "metadata": {},
   "outputs": [],
   "source": []
  },
  {
   "cell_type": "code",
   "execution_count": null,
   "metadata": {},
   "outputs": [],
   "source": []
  },
  {
   "cell_type": "code",
   "execution_count": 31,
   "metadata": {},
   "outputs": [],
   "source": []
  },
  {
   "cell_type": "code",
   "execution_count": null,
   "metadata": {},
   "outputs": [],
   "source": []
  },
  {
   "cell_type": "code",
   "execution_count": null,
   "metadata": {},
   "outputs": [],
   "source": []
  }
 ],
 "metadata": {
  "kernelspec": {
   "display_name": "Python 3",
   "language": "python",
   "name": "python3"
  },
  "language_info": {
   "codemirror_mode": {
    "name": "ipython",
    "version": 3
   },
   "file_extension": ".py",
   "mimetype": "text/x-python",
   "name": "python",
   "nbconvert_exporter": "python",
   "pygments_lexer": "ipython3",
   "version": "3.7.4"
  }
 },
 "nbformat": 4,
 "nbformat_minor": 2
}

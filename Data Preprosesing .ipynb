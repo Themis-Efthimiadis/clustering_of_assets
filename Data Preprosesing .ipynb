{
 "cells": [
  {
   "cell_type": "code",
   "execution_count": 1,
   "metadata": {},
   "outputs": [],
   "source": [
    "import pandas as pd\n",
    "import numpy as np\n",
    "import matplotlib.pyplot as plt"
   ]
  },
  {
   "cell_type": "markdown",
   "metadata": {},
   "source": [
    "# Import Data"
   ]
  },
  {
   "cell_type": "code",
   "execution_count": 2,
   "metadata": {},
   "outputs": [
    {
     "name": "stdout",
     "output_type": "stream",
     "text": [
      "        prd int_tick     spr  rat          rind      cvol   dur      sret  \\\n",
      "0  20090903      U_A  0.0388  BBB  auto_tech_HG  0.035545  6.08 -0.000766   \n",
      "1  20090904      U_A  0.0388  BBB  auto_tech_HG  0.035545  6.07 -0.001917   \n",
      "2  20090907      U_A  0.0389  BBB  auto_tech_HG  0.035545  6.06 -0.000107   \n",
      "3  20090908      U_A  0.0389  BBB  auto_tech_HG  0.035545  6.05 -0.002233   \n",
      "4  20090909      U_A  0.0391  BBB  auto_tech_HG  0.035545  6.04  0.007124   \n",
      "\n",
      "       tret  xoil          mcap    beta          debt      iret    trisk  \\\n",
      "0 -0.000060   0.0  8.683420e+09  1.0261  2.125000e+09  0.008535  37.8971   \n",
      "1 -0.000380   0.0  8.879130e+09  1.0299  2.125000e+09  0.013117  37.9396   \n",
      "2  0.000180   0.0  8.879130e+09  1.0332  2.125000e+09  0.000000  38.1543   \n",
      "3 -0.000781   0.0  9.114410e+09  1.0364  2.125000e+09  0.008845  38.0290   \n",
      "4  0.008814   0.0  9.369790e+09  1.0414  2.125000e+09  0.007782  38.0636   \n",
      "\n",
      "        sov   ind       lev          size  \n",
      "0  0.002411  Elec  0.196606  1.080842e+10  \n",
      "1  0.002422  Elec  0.193109  1.100413e+10  \n",
      "2  0.002410  Elec  0.193109  1.100413e+10  \n",
      "3  0.002360  Elec  0.189067  1.123941e+10  \n",
      "4  0.002300  Elec  0.184866  1.149479e+10  \n",
      "(2136441, 19)\n"
     ]
    }
   ],
   "source": [
    "Data=pd.read_csv('cluster_data_usb.csv')\n",
    "Data=Data.drop('Unnamed: 0',axis=1)\n",
    "print(Data.head())\n",
    "print(Data.shape)"
   ]
  },
  {
   "cell_type": "markdown",
   "metadata": {},
   "source": [
    "# Keep one year"
   ]
  },
  {
   "cell_type": "code",
   "execution_count": 3,
   "metadata": {},
   "outputs": [],
   "source": [
    "Data['prd'] = Data['prd'].apply(str)\n",
    "year=Data[Data.prd.str.contains('^2009')]"
   ]
  },
  {
   "cell_type": "code",
   "execution_count": 5,
   "metadata": {},
   "outputs": [],
   "source": [
    "int_tick_name=list(set(year.int_tick))"
   ]
  },
  {
   "cell_type": "markdown",
   "metadata": {},
   "source": [
    "# Fill missing prd"
   ]
  },
  {
   "cell_type": "code",
   "execution_count": 27,
   "metadata": {},
   "outputs": [],
   "source": [
    "# περνω τις ημερομηνιες:\n",
    "periods=(year.loc[year['int_tick']=='U_TELEFO']).prd"
   ]
  },
  {
   "cell_type": "code",
   "execution_count": 29,
   "metadata": {},
   "outputs": [],
   "source": [
    "len_int_tick=(year.int_tick).value_counts()\n",
    "int_tick=pd.Series(len_int_tick.index)\n",
    "counts=pd.Series(list(len_int_tick))\n",
    "lenOfInt=pd.concat([int_tick,counts],axis=1)\n",
    "column_names=['int_tick','count']\n",
    "lenOfInt.columns=column_names"
   ]
  },
  {
   "cell_type": "code",
   "execution_count": 30,
   "metadata": {},
   "outputs": [
    {
     "name": "stderr",
     "output_type": "stream",
     "text": [
      "C:\\Users\\thela\\Anaconda3\\lib\\site-packages\\ipykernel_launcher.py:2: SettingWithCopyWarning: \n",
      "A value is trying to be set on a copy of a slice from a DataFrame.\n",
      "Try using .loc[row_indexer,col_indexer] = value instead\n",
      "\n",
      "See the caveats in the documentation: https://pandas.pydata.org/pandas-docs/stable/user_guide/indexing.html#returning-a-view-versus-a-copy\n",
      "  \n"
     ]
    }
   ],
   "source": [
    "less=lenOfInt.loc[lenOfInt['count']<81]\n",
    "less['count']=81-less['count']"
   ]
  },
  {
   "cell_type": "code",
   "execution_count": 31,
   "metadata": {},
   "outputs": [],
   "source": [
    "filled_data=[]\n",
    "for int_name, missing_num in zip(less['int_tick'],less['count']):\n",
    "    data_of_missing=year.loc[year['int_tick']==int_name] # To int_tick που του λειπουν μερες\n",
    "    for_filling=data_of_missing.tail(1)                  # Η τελευταια μερα που θα χρησιμοποιησουμε για την συμπληρωση\n",
    "    missing=pd.concat([for_filling]*missing_num,axis=0)  # Το τμημα που ελειπε\n",
    "    filled=pd.concat([data_of_missing,missing],axis=0)   # ενωση του τμηματος που υπαρχει με το υπολοιπον\n",
    "    filled.prd=list(periods)                             # Ανανεωση των περιοδων\n",
    "    filled_data.append(filled)\n",
    "    "
   ]
  },
  {
   "cell_type": "code",
   "execution_count": 32,
   "metadata": {},
   "outputs": [],
   "source": [
    "filled_data=pd.concat(filled_data)\n",
    "full=year[~(year[\"int_tick\"].isin(less['int_tick']))] "
   ]
  },
  {
   "cell_type": "code",
   "execution_count": 33,
   "metadata": {},
   "outputs": [],
   "source": [
    "DataFill=pd.concat([full,filled_data])"
   ]
  },
  {
   "cell_type": "code",
   "execution_count": 34,
   "metadata": {},
   "outputs": [],
   "source": [
    "DataFill=DataFill.reset_index(drop=True)"
   ]
  },
  {
   "cell_type": "markdown",
   "metadata": {},
   "source": [
    "# Sort dataset by period"
   ]
  },
  {
   "cell_type": "code",
   "execution_count": 37,
   "metadata": {},
   "outputs": [],
   "source": [
    "sorted_=[]\n",
    "for prd in periods:\n",
    "    sorted_.append(DataFill.loc[DataFill['prd']==prd])\n",
    "data=pd.concat(sorted_)"
   ]
  },
  {
   "cell_type": "markdown",
   "metadata": {},
   "source": [
    "# Rest preprosesing"
   ]
  },
  {
   "cell_type": "markdown",
   "metadata": {},
   "source": [
    "# rat to numeric"
   ]
  },
  {
   "cell_type": "code",
   "execution_count": 38,
   "metadata": {},
   "outputs": [],
   "source": [
    "Rating=data.rat"
   ]
  },
  {
   "cell_type": "code",
   "execution_count": 39,
   "metadata": {},
   "outputs": [],
   "source": [
    "NewRating=[]\n",
    "for i in Rating:\n",
    "    if i==\"AAA\":\n",
    "        NewRating.append(1)\n",
    "    if i==\"AA\":\n",
    "        NewRating.append(2)\n",
    "    if i==\"A\":\n",
    "        NewRating.append(3)\n",
    "    if i==\"BBB\":\n",
    "        NewRating.append(4)\n",
    "    if i==\"BB\":\n",
    "        NewRating.append(5)\n",
    "    if i==\"B\":\n",
    "        NewRating.append(9)\n",
    "    if i==\"CCC\":\n",
    "        NewRating.append(7)\n",
    "    if i==\"CC\":\n",
    "        NewRating.append(8)\n",
    "    if i==\"C\":\n",
    "        NewRating.append(9)\n",
    "    if i==\"D\":\n",
    "        NewRating.append(10)"
   ]
  },
  {
   "cell_type": "code",
   "execution_count": 40,
   "metadata": {},
   "outputs": [],
   "source": [
    "NewRating=np.array(NewRating)\n",
    "NewRating=NewRating/NewRating.max()\n",
    "NewRating=pd.Series(NewRating)\n",
    "data.rat=NewRating"
   ]
  },
  {
   "cell_type": "markdown",
   "metadata": {},
   "source": [
    "# dur to [0-1]"
   ]
  },
  {
   "cell_type": "code",
   "execution_count": 41,
   "metadata": {},
   "outputs": [
    {
     "name": "stderr",
     "output_type": "stream",
     "text": [
      "C:\\Users\\thela\\AppData\\Roaming\\Python\\Python37\\site-packages\\pandas\\core\\generic.py:5303: SettingWithCopyWarning: \n",
      "A value is trying to be set on a copy of a slice from a DataFrame.\n",
      "Try using .loc[row_indexer,col_indexer] = value instead\n",
      "\n",
      "See the caveats in the documentation: https://pandas.pydata.org/pandas-docs/stable/user_guide/indexing.html#returning-a-view-versus-a-copy\n",
      "  self[name] = value\n"
     ]
    }
   ],
   "source": [
    "int_data_matrix=[]\n",
    "for prd in periods:\n",
    "    int_data=data.loc[data['prd']==prd]\n",
    "    dur=np.array(int_data.dur)\n",
    "    dur=(dur-dur.min())/(dur.max()-dur.min())\n",
    "    int_data.dur=dur\n",
    "    int_data_matrix.append(int_data)"
   ]
  },
  {
   "cell_type": "code",
   "execution_count": 42,
   "metadata": {},
   "outputs": [],
   "source": [
    "data=pd.concat(int_data_matrix)"
   ]
  },
  {
   "cell_type": "markdown",
   "metadata": {},
   "source": [
    "# Breakpoint lev"
   ]
  },
  {
   "cell_type": "code",
   "execution_count": 43,
   "metadata": {},
   "outputs": [],
   "source": [
    "lev=data.lev\n",
    "x=0.2\n",
    "New_lev=[]\n",
    "for i in lev:\n",
    "    if i<0.5:\n",
    "        New_lev.append(1*x)\n",
    "    if i>=0.5 and i<0.7:\n",
    "        New_lev.append(2*x)\n",
    "    if i>=0.7 and i<0.85:\n",
    "        New_lev.append(3*x)\n",
    "    if i>=0.85:\n",
    "        New_lev.append(4*x)"
   ]
  },
  {
   "cell_type": "code",
   "execution_count": 44,
   "metadata": {},
   "outputs": [],
   "source": [
    "data.lev=New_lev"
   ]
  },
  {
   "cell_type": "markdown",
   "metadata": {},
   "source": [
    "# Breakpoint size"
   ]
  },
  {
   "cell_type": "code",
   "execution_count": 45,
   "metadata": {},
   "outputs": [],
   "source": [
    "size=data['size']\n",
    "x=0.2\n",
    "New_size=[]\n",
    "for i in size:\n",
    "    if i<2e+9:\n",
    "        New_size.append(1*x)\n",
    "    if i>=2e+9 and i<8e+9:\n",
    "        New_size.append(2*x)\n",
    "    if i>=8e+9 and i<15e9:\n",
    "        New_size.append(3*x)\n",
    "    if i>=15e+9:\n",
    "        New_size.append(4*x)"
   ]
  },
  {
   "cell_type": "code",
   "execution_count": 46,
   "metadata": {},
   "outputs": [],
   "source": [
    "data.size=New_size"
   ]
  },
  {
   "cell_type": "markdown",
   "metadata": {},
   "source": [
    "# Quantile"
   ]
  },
  {
   "cell_type": "code",
   "execution_count": 47,
   "metadata": {},
   "outputs": [],
   "source": [
    "def add_pctls(ds_in, val_col, num_pctl, by_col = None, new_col = None):\n",
    "    #print(\"Running add pctl, params:%s,%s,%s,%s\"%(val_col,num_pctl, by_col, new_col));\n",
    "    new_col = new_col if (new_col) else val_col + \"_pctl\" ;\n",
    "    if (by_col is None):\n",
    "        ds_in.loc[:,new_col]=np.floor(ds_in[val_col].rank() * num_pctl / (len(ds_in[val_col])+1));\n",
    "    else:\n",
    "        groupby = ds_in.groupby(by_col)[val_col];\n",
    "        labels = groupby.ngroup();\n",
    "        ds_in.loc[:,new_col] = np.floor(groupby.rank() * num_pctl / (groupby.size().values[labels] + 1));\n",
    "    return ds_in;"
   ]
  },
  {
   "cell_type": "code",
   "execution_count": 48,
   "metadata": {},
   "outputs": [],
   "source": [
    "def make_quintiles(data,feature):\n",
    "    prd_sorted=data.prd\n",
    "    feat=data[feature]\n",
    "    use_case=pd.concat([feat,prd_sorted],axis=1)\n",
    "    f_qnt=add_pctls(use_case,feature,100,'prd')\n",
    "    f_qnt=f_qnt[feature+'_pctl']\n",
    "    return f_qnt"
   ]
  },
  {
   "cell_type": "code",
   "execution_count": 49,
   "metadata": {},
   "outputs": [],
   "source": [
    "# spr\n",
    "spr=make_quintiles(data,'spr')/100\n",
    "data['spr']=spr\n",
    "\n",
    "# cvol\n",
    "cvol=make_quintiles(data,'cvol')/100\n",
    "data['cvol']=cvol\n",
    "\n",
    "# xoil\n",
    "cvol=make_quintiles(data,'xoil')/100\n",
    "data['xoil']=cvol\n",
    "\n",
    "# beta\n",
    "cvol=make_quintiles(data,'beta')/100\n",
    "data['beta']=cvol\n",
    "\n",
    "# iret\n",
    "cvol=make_quintiles(data,'iret')/100\n",
    "data['iret']=cvol\n",
    "\n",
    "# trisk\n",
    "cvol=make_quintiles(data,'trisk')/100\n",
    "data['trisk']=cvol\n",
    "\n",
    "# sov\n",
    "cvol=make_quintiles(data,'sov')/100\n",
    "data['sov']=cvol"
   ]
  },
  {
   "cell_type": "markdown",
   "metadata": {},
   "source": [
    "# Exponetial weighting moving averages\n"
   ]
  },
  {
   "cell_type": "code",
   "execution_count": 54,
   "metadata": {},
   "outputs": [],
   "source": [
    "# sort by int_tick\n",
    "int_tick_names_2=list(set(data.int_tick))"
   ]
  },
  {
   "cell_type": "code",
   "execution_count": 56,
   "metadata": {},
   "outputs": [
    {
     "name": "stderr",
     "output_type": "stream",
     "text": [
      "C:\\Users\\thela\\AppData\\Roaming\\Python\\Python37\\site-packages\\pandas\\core\\frame.py:2963: SettingWithCopyWarning: \n",
      "A value is trying to be set on a copy of a slice from a DataFrame.\n",
      "Try using .loc[row_indexer,col_indexer] = value instead\n",
      "\n",
      "See the caveats in the documentation: https://pandas.pydata.org/pandas-docs/stable/user_guide/indexing.html#returning-a-view-versus-a-copy\n",
      "  self[k1] = value[k2]\n"
     ]
    }
   ],
   "source": [
    "data_final=[]\n",
    "for int_name in int_tick_names_2:\n",
    "    ticket=data.loc[data['int_tick']==int_name]\n",
    "    cols = ticket.select_dtypes(include=np.number).columns\n",
    "    ticket[cols] = ticket[cols].ewm(span=10).mean()\n",
    "    data_final.append(ticket)\n",
    "\n",
    "data_final=pd.concat(data_final)"
   ]
  },
  {
   "cell_type": "markdown",
   "metadata": {},
   "source": [
    "# Save"
   ]
  },
  {
   "cell_type": "code",
   "execution_count": 58,
   "metadata": {},
   "outputs": [],
   "source": [
    "data_final.to_csv('Preproccesed.csv')"
   ]
  },
  {
   "cell_type": "code",
   "execution_count": null,
   "metadata": {},
   "outputs": [],
   "source": []
  },
  {
   "cell_type": "code",
   "execution_count": null,
   "metadata": {},
   "outputs": [],
   "source": []
  },
  {
   "cell_type": "code",
   "execution_count": null,
   "metadata": {},
   "outputs": [],
   "source": []
  },
  {
   "cell_type": "code",
   "execution_count": null,
   "metadata": {},
   "outputs": [],
   "source": []
  },
  {
   "cell_type": "code",
   "execution_count": null,
   "metadata": {},
   "outputs": [],
   "source": []
  },
  {
   "cell_type": "code",
   "execution_count": null,
   "metadata": {},
   "outputs": [],
   "source": []
  }
 ],
 "metadata": {
  "kernelspec": {
   "display_name": "Python 3",
   "language": "python",
   "name": "python3"
  },
  "language_info": {
   "codemirror_mode": {
    "name": "ipython",
    "version": 3
   },
   "file_extension": ".py",
   "mimetype": "text/x-python",
   "name": "python",
   "nbconvert_exporter": "python",
   "pygments_lexer": "ipython3",
   "version": "3.7.4"
  }
 },
 "nbformat": 4,
 "nbformat_minor": 2
}
